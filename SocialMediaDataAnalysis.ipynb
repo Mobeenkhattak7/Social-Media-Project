{
 "cells": [
  {
   "cell_type": "markdown",
   "metadata": {},
   "source": [
    "# Clean & Analyze Social Media"
   ]
  },
  {
   "cell_type": "markdown",
   "metadata": {},
   "source": [
    "## Introduction\n",
    "\n",
    "Social media has become a ubiquitous part of modern life, with platforms such as Instagram, Twitter, and Facebook serving as essential communication channels. Social media data sets are vast and complex, making analysis a challenging task for businesses and researchers alike. In this project, we explore a simulated social media, for example Tweets, data set to understand trends in likes across different categories.\n",
    "\n",
    "## Prerequisites\n",
    "\n",
    "To follow along with this project, you should have a basic understanding of Python programming and data analysis concepts. In addition, you may want to use the following packages in your Python environment:\n",
    "\n",
    "- pandas\n",
    "- Matplotlib\n",
    "- ...\n",
    "\n",
    "These packages should already be installed in Coursera's Jupyter Notebook environment, however if you'd like to install additional packages that are not included in this environment or are working off platform you can install additional packages using `!pip install packagename` within a notebook cell such as:\n",
    "\n",
    "- `!pip install pandas`\n",
    "- `!pip install matplotlib`\n",
    "\n",
    "## Project Scope\n",
    "\n",
    "The objective of this project is to analyze tweets (or other social media data) and gain insights into user engagement. We will explore the data set using visualization techniques to understand the distribution of likes across different categories. Finally, we will analyze the data to draw conclusions about the most popular categories and the overall engagement on the platform.\n",
    "\n",
    "## Step 1: Importing Required Libraries\n",
    "\n",
    "As the name suggests, the first step is to import all the necessary libraries that will be used in the project. In this case, we need pandas, numpy, matplotlib, seaborn, and random libraries.\n",
    "\n",
    "Pandas is a library used for data manipulation and analysis. Numpy is a library used for numerical computations. Matplotlib is a library used for data visualization. Seaborn is a library used for statistical data visualization. Random is a library used to generate random numbers."
   ]
  },
  {
   "cell_type": "code",
   "execution_count": 1,
   "metadata": {},
   "outputs": [
    {
     "name": "stdout",
     "output_type": "stream",
     "text": [
      "Requirement already satisfied: pandas in /opt/conda/lib/python3.7/site-packages (1.0.3)\n",
      "Requirement already satisfied: pytz>=2017.2 in /opt/conda/lib/python3.7/site-packages (from pandas) (2020.1)\n",
      "Requirement already satisfied: python-dateutil>=2.6.1 in /opt/conda/lib/python3.7/site-packages (from pandas) (2.8.1)\n",
      "Requirement already satisfied: numpy>=1.13.3 in /opt/conda/lib/python3.7/site-packages (from pandas) (1.18.4)\n",
      "Requirement already satisfied: six>=1.5 in /opt/conda/lib/python3.7/site-packages (from python-dateutil>=2.6.1->pandas) (1.14.0)\n",
      "\u001b[33mWARNING: You are using pip version 21.3.1; however, version 24.0 is available.\n",
      "You should consider upgrading via the '/opt/conda/bin/python3 -m pip install --upgrade pip' command.\u001b[0m\n"
     ]
    }
   ],
   "source": [
    "!pip install pandas"
   ]
  },
  {
   "cell_type": "code",
   "execution_count": 2,
   "metadata": {},
   "outputs": [
    {
     "name": "stdout",
     "output_type": "stream",
     "text": [
      "Requirement already satisfied: matplotlib in /opt/conda/lib/python3.7/site-packages (3.2.1)\n",
      "Requirement already satisfied: kiwisolver>=1.0.1 in /opt/conda/lib/python3.7/site-packages (from matplotlib) (1.2.0)\n",
      "Requirement already satisfied: python-dateutil>=2.1 in /opt/conda/lib/python3.7/site-packages (from matplotlib) (2.8.1)\n",
      "Requirement already satisfied: numpy>=1.11 in /opt/conda/lib/python3.7/site-packages (from matplotlib) (1.18.4)\n",
      "Requirement already satisfied: cycler>=0.10 in /opt/conda/lib/python3.7/site-packages (from matplotlib) (0.10.0)\n",
      "Requirement already satisfied: pyparsing!=2.0.4,!=2.1.2,!=2.1.6,>=2.0.1 in /opt/conda/lib/python3.7/site-packages (from matplotlib) (2.4.7)\n",
      "Requirement already satisfied: six in /opt/conda/lib/python3.7/site-packages (from cycler>=0.10->matplotlib) (1.14.0)\n",
      "\u001b[33mWARNING: You are using pip version 21.3.1; however, version 24.0 is available.\n",
      "You should consider upgrading via the '/opt/conda/bin/python3 -m pip install --upgrade pip' command.\u001b[0m\n"
     ]
    }
   ],
   "source": [
    "!pip install matplotlib"
   ]
  },
  {
   "cell_type": "code",
   "execution_count": 5,
   "metadata": {},
   "outputs": [
    {
     "name": "stdout",
     "output_type": "stream",
     "text": [
      "Requirement already satisfied: numpy in /opt/conda/lib/python3.7/site-packages (1.18.4)\n",
      "\u001b[33mWARNING: You are using pip version 21.3.1; however, version 24.0 is available.\n",
      "You should consider upgrading via the '/opt/conda/bin/python3 -m pip install --upgrade pip' command.\u001b[0m\n"
     ]
    }
   ],
   "source": [
    "!pip install numpy"
   ]
  },
  {
   "cell_type": "code",
   "execution_count": 22,
   "metadata": {},
   "outputs": [
    {
     "name": "stdout",
     "output_type": "stream",
     "text": [
      "Requirement already satisfied: seaborn in /opt/conda/lib/python3.7/site-packages (0.12.2)\n",
      "Requirement already satisfied: pandas>=0.25 in /opt/conda/lib/python3.7/site-packages (from seaborn) (1.0.3)\n",
      "Requirement already satisfied: matplotlib!=3.6.1,>=3.1 in /opt/conda/lib/python3.7/site-packages (from seaborn) (3.2.1)\n",
      "Requirement already satisfied: typing_extensions in /opt/conda/lib/python3.7/site-packages (from seaborn) (3.7.4.2)\n",
      "Requirement already satisfied: numpy!=1.24.0,>=1.17 in /opt/conda/lib/python3.7/site-packages (from seaborn) (1.18.4)\n",
      "Requirement already satisfied: pyparsing!=2.0.4,!=2.1.2,!=2.1.6,>=2.0.1 in /opt/conda/lib/python3.7/site-packages (from matplotlib!=3.6.1,>=3.1->seaborn) (2.4.7)\n",
      "Requirement already satisfied: python-dateutil>=2.1 in /opt/conda/lib/python3.7/site-packages (from matplotlib!=3.6.1,>=3.1->seaborn) (2.8.1)\n",
      "Requirement already satisfied: cycler>=0.10 in /opt/conda/lib/python3.7/site-packages (from matplotlib!=3.6.1,>=3.1->seaborn) (0.10.0)\n",
      "Requirement already satisfied: kiwisolver>=1.0.1 in /opt/conda/lib/python3.7/site-packages (from matplotlib!=3.6.1,>=3.1->seaborn) (1.2.0)\n",
      "Requirement already satisfied: pytz>=2017.2 in /opt/conda/lib/python3.7/site-packages (from pandas>=0.25->seaborn) (2020.1)\n",
      "Requirement already satisfied: six in /opt/conda/lib/python3.7/site-packages (from cycler>=0.10->matplotlib!=3.6.1,>=3.1->seaborn) (1.14.0)\n",
      "\u001b[33mWARNING: You are using pip version 21.3.1; however, version 24.0 is available.\n",
      "You should consider upgrading via the '/opt/conda/bin/python3 -m pip install --upgrade pip' command.\u001b[0m\n"
     ]
    }
   ],
   "source": [
    "!pip install seaborn"
   ]
  },
  {
   "cell_type": "code",
   "execution_count": 23,
   "metadata": {},
   "outputs": [],
   "source": [
    "import pandas as pd\n",
    "import matplotlib.pyplot as plt\n",
    "import numpy as np\n",
    "import seaborn as sns\n",
    "import random"
   ]
  },
  {
   "cell_type": "code",
   "execution_count": 24,
   "metadata": {},
   "outputs": [
    {
     "name": "stdout",
     "output_type": "stream",
     "text": [
      "                           Date Category  Likes\n",
      "0 2023-01-01 00:00:00.000000000   Travel   7922\n",
      "1 2023-01-01 04:22:12.666333166     Food   3652\n",
      "2 2023-01-01 08:44:25.332666333  Fashion   7699\n",
      "3 2023-01-01 13:06:37.998999499   Health    296\n",
      "4 2023-01-01 17:28:50.665332666   Family   1601\n"
     ]
    }
   ],
   "source": [
    "# Here I've defined the list of categories\n",
    "categories = ['Food', 'Travel', 'Fashion', 'Fitness', 'Music', 'Culture', 'Family', 'Health']\n",
    "\n",
    "# Here I've defined the number of data points\n",
    "n = 2000\n",
    "\n",
    "# Here I've generated random dates\n",
    "date_range = pd.date_range(start='2023-01-01', end='2023-12-31', periods=n)\n",
    "\n",
    "# Here I've generated random categories\n",
    "category_choices = [random.choice(categories) for _ in range(n)]\n",
    "\n",
    "# Here I've generated random likes\n",
    "likes = np.random.randint(0, 10000, n)\n",
    "\n",
    "# Here I've created the data dictionary\n",
    "social_media_data = {\n",
    "    'Date': date_range,\n",
    "    'Category': category_choices,\n",
    "    'Likes': likes\n",
    "}\n",
    "\n",
    "# Here I've converted it  into a DataFrame to preview\n",
    "df = pd.DataFrame(social_media_data)\n",
    "print(df.head())\n",
    "\n"
   ]
  },
  {
   "cell_type": "code",
   "execution_count": 25,
   "metadata": {},
   "outputs": [
    {
     "name": "stdout",
     "output_type": "stream",
     "text": [
      "<class 'pandas.core.frame.DataFrame'>\n",
      "RangeIndex: 2000 entries, 0 to 1999\n",
      "Data columns (total 3 columns):\n",
      " #   Column    Non-Null Count  Dtype         \n",
      "---  ------    --------------  -----         \n",
      " 0   Date      2000 non-null   datetime64[ns]\n",
      " 1   Category  2000 non-null   object        \n",
      " 2   Likes     2000 non-null   int64         \n",
      "dtypes: datetime64[ns](1), int64(1), object(1)\n",
      "memory usage: 47.0+ KB\n",
      "None\n"
     ]
    }
   ],
   "source": [
    "print(df.info())"
   ]
  },
  {
   "cell_type": "code",
   "execution_count": 26,
   "metadata": {},
   "outputs": [
    {
     "name": "stdout",
     "output_type": "stream",
     "text": [
      "DataFrame Head:\n",
      "                           Date Category  Likes\n",
      "0 2023-01-01 00:00:00.000000000   Travel   7922\n",
      "1 2023-01-01 04:22:12.666333166     Food   3652\n",
      "2 2023-01-01 08:44:25.332666333  Fashion   7699\n",
      "3 2023-01-01 13:06:37.998999499   Health    296\n",
      "4 2023-01-01 17:28:50.665332666   Family   1601\n",
      "\n",
      "DataFrame Info:\n",
      "<class 'pandas.core.frame.DataFrame'>\n",
      "RangeIndex: 2000 entries, 0 to 1999\n",
      "Data columns (total 3 columns):\n",
      " #   Column    Non-Null Count  Dtype         \n",
      "---  ------    --------------  -----         \n",
      " 0   Date      2000 non-null   datetime64[ns]\n",
      " 1   Category  2000 non-null   object        \n",
      " 2   Likes     2000 non-null   int64         \n",
      "dtypes: datetime64[ns](1), int64(1), object(1)\n",
      "memory usage: 47.0+ KB\n",
      "None\n",
      "\n",
      "DataFrame Description:\n",
      "             Likes\n",
      "count  2000.000000\n",
      "mean   5024.837000\n",
      "std    2865.432824\n",
      "min       2.000000\n",
      "25%    2549.500000\n",
      "50%    5117.000000\n",
      "75%    7533.250000\n",
      "max    9997.000000\n",
      "\n",
      "Count of Each Category:\n",
      "Music      282\n",
      "Food       266\n",
      "Fashion    252\n",
      "Culture    251\n",
      "Family     242\n",
      "Fitness    241\n",
      "Health     234\n",
      "Travel     232\n",
      "Name: Category, dtype: int64\n"
     ]
    }
   ],
   "source": [
    "# Here I've printed the DataFrame head\n",
    "print(\"DataFrame Head:\")\n",
    "print(df.head())\n",
    "\n",
    "# Here I've printed the DataFrame information\n",
    "print(\"\\nDataFrame Info:\")\n",
    "print(df.info())\n",
    "\n",
    "# Here I've printed the DataFrame description\n",
    "print(\"\\nDataFrame Description:\")\n",
    "print(df.describe())\n",
    "\n",
    "# Here I've printed the count of each 'Category' element\n",
    "print(\"\\nCount of Each Category:\")\n",
    "print(df['Category'].value_counts())"
   ]
  },
  {
   "cell_type": "markdown",
   "metadata": {},
   "source": [
    "*CLEANING THE DATA*\n"
   ]
  },
  {
   "cell_type": "code",
   "execution_count": 27,
   "metadata": {},
   "outputs": [
    {
     "name": "stdout",
     "output_type": "stream",
     "text": [
      "Cleaned DataFrame Head:\n",
      "        Date Category  Likes\n",
      "0 2023-01-01   Travel   7922\n",
      "1 2023-01-02     Food   3652\n",
      "2 2023-01-03  Fashion   7699\n",
      "3 2023-01-04   Health    296\n",
      "4 2023-01-05   Family   1601\n",
      "\n",
      "Cleaned DataFrame Info:\n",
      "<class 'pandas.core.frame.DataFrame'>\n",
      "Int64Index: 2000 entries, 0 to 1999\n",
      "Data columns (total 3 columns):\n",
      " #   Column    Non-Null Count  Dtype         \n",
      "---  ------    --------------  -----         \n",
      " 0   Date      2000 non-null   datetime64[ns]\n",
      " 1   Category  2000 non-null   object        \n",
      " 2   Likes     2000 non-null   int64         \n",
      "dtypes: datetime64[ns](1), int64(1), object(1)\n",
      "memory usage: 62.5+ KB\n",
      "None\n"
     ]
    }
   ],
   "source": [
    "# Removing any null data\n",
    "df = df.dropna()\n",
    "\n",
    "# Removing any  duplicate data\n",
    "df = df.drop_duplicates()\n",
    "\n",
    "# Converting the  'Date' field to datetime\n",
    "df['Date'] = pd.date_range(start='2023-01-01', periods=len(df), freq='D')\n",
    "\n",
    "# Converting the 'Date' column to datetime format\n",
    "df['Date'] = pd.to_datetime(df['Date'])\n",
    "\n",
    "# Converting the 'Likes' data to integers\n",
    "df['Likes'] = df['Likes'].astype(int)\n",
    "\n",
    "# Printing the cleaned DataFrame head\n",
    "print(\"Cleaned DataFrame Head:\")\n",
    "print(df.head())\n",
    "\n",
    "# Printing the DataFrame information\n",
    "print(\"\\nCleaned DataFrame Info:\")\n",
    "print(df.info())"
   ]
  },
  {
   "cell_type": "markdown",
   "metadata": {},
   "source": [
    "*VISUALIZING THE DATA*"
   ]
  },
  {
   "cell_type": "code",
   "execution_count": 29,
   "metadata": {},
   "outputs": [
    {
     "data": {
      "image/png": "[encoded data removed]",
      "text/plain": [
       "<Figure size 720x360 with 1 Axes>"
      ]
     },
     "metadata": {
      "needs_background": "light"
     },
     "output_type": "display_data"
    },
    {
     "data": {
      "image/png": "[encoded data removed]",
      "text/plain": [
       "<Figure size 864x432 with 1 Axes>"
      ]
     },
     "metadata": {
      "needs_background": "light"
     },
     "output_type": "display_data"
    },
    {
     "name": "stdout",
     "output_type": "stream",
     "text": [
      "Mean Likes: 5024.84\n",
      "\n",
      "Mean Likes by Category:\n",
      "Category\n",
      "Culture    5136.055777\n",
      "Family     5014.314050\n",
      "Fashion    5040.341270\n",
      "Fitness    4876.041494\n",
      "Food       5186.684211\n",
      "Health     5195.277778\n",
      "Music      4769.177305\n",
      "Travel     5006.495690\n",
      "Name: Likes, dtype: float64\n"
     ]
    }
   ],
   "source": [
    "# Here I'm visualizing the data using Matplotlib for Histogram of Likes\n",
    "plt.figure(figsize=(10, 5))\n",
    "plt.hist(df['Likes'], bins=30, color='skyblue', edgecolor='black', alpha=0.7)\n",
    "plt.title('Histogram of Likes')\n",
    "plt.xlabel('Likes')\n",
    "plt.ylabel('Frequency')\n",
    "plt.grid(axis='y', alpha=0.75)\n",
    "plt.show()\n",
    "\n",
    "# Here I'm using the Boxplot for Likes by Category using Seaborn\n",
    "plt.figure(figsize=(12, 6))\n",
    "sns.boxplot(x='Category', y='Likes', data=df)\n",
    "plt.title('Boxplot of Likes by Category')\n",
    "plt.xlabel('Category')\n",
    "plt.ylabel('Likes')\n",
    "plt.xticks(rotation=45)\n",
    "plt.show()\n",
    "\n",
    "# Statistics\n",
    "# printing the mean of Likes\n",
    "mean_likes = df['Likes'].mean()\n",
    "print(f\"Mean Likes: {mean_likes:.2f}\")\n",
    "\n",
    "# here I'm grouping by Category and calculate mean Likes\n",
    "mean_likes_by_category = df.groupby('Category')['Likes'].mean()\n",
    "print(\"\\nMean Likes by Category:\")\n",
    "print(mean_likes_by_category)"
   ]
  },
  {
   "cell_type": "code",
   "execution_count": null,
   "metadata": {},
   "outputs": [],
   "source": []
  }
 ],
 "metadata": {
  "kernelspec": {
   "display_name": "Python 3",
   "language": "python",
   "name": "python3"
  },
  "language_info": {
   "codemirror_mode": {
    "name": "ipython",
    "version": 3
   },
   "file_extension": ".py",
   "mimetype": "text/x-python",
   "name": "python",
   "nbconvert_exporter": "python",
   "pygments_lexer": "ipython3",
   "version": "3.7.6"
  }
 },
 "nbformat": 4,
 "nbformat_minor": 4
}
